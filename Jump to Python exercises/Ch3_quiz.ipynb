{
  "nbformat": 4,
  "nbformat_minor": 0,
  "metadata": {
    "colab": {
      "name": "Ch3_quiz.ipynb",
      "provenance": [],
      "collapsed_sections": []
    },
    "kernelspec": {
      "name": "python3",
      "display_name": "Python 3"
    },
    "language_info": {
      "name": "python"
    }
  },
  "cells": [
    {
      "cell_type": "markdown",
      "metadata": {
        "id": "fptKY47VkEMb"
      },
      "source": [
        "#### Q1 다음 코드의 결괏값은 무엇일까?\n",
        "```\n",
        "a = \"Life is too short, you need python\"\n",
        "\n",
        "if \"wife\" in a:\n",
        "    print(\"wife\")\n",
        "elif \"python\" in a and \"you\" not in a:\n",
        "    print(\"python\")\n",
        "elif \"shirt\" not in a:\n",
        "    print(\"shirt\")\n",
        "elif \"need\" in a:\n",
        "    print(\"need\")\n",
        "else:\n",
        "    print(\"none\")\n",
        "```"
      ]
    },
    {
      "cell_type": "code",
      "metadata": {
        "colab": {
          "base_uri": "https://localhost:8080/"
        },
        "id": "BzRwGk9qjKmE",
        "outputId": "a4496d1b-297a-448c-90f4-55cf862a5e84"
      },
      "source": [
        "a = \"Life is too short, you need python\"\n",
        "\n",
        "if \"wife\" in a:\n",
        "    print(\"wife\")\n",
        "elif \"python\" in a and \"you\" not in a:\n",
        "    print(\"python\")\n",
        "elif \"shirt\" not in a:\n",
        "    print(\"shirt\")\n",
        "elif \"need\" in a:\n",
        "    print(\"need\")\n",
        "else:\n",
        "    print(\"none\")"
      ],
      "execution_count": null,
      "outputs": [
        {
          "output_type": "stream",
          "text": [
            "shirt\n"
          ],
          "name": "stdout"
        }
      ]
    },
    {
      "cell_type": "markdown",
      "metadata": {
        "id": "hHYNYL08kKAZ"
      },
      "source": [
        "#### Q2 while문을 사용하여 1부터 1000까지의 자연수 중 3의 배수의 합을 구해 보자."
      ]
    },
    {
      "cell_type": "code",
      "metadata": {
        "id": "XTqVyj5Hj4wX",
        "colab": {
          "base_uri": "https://localhost:8080/"
        },
        "outputId": "42abaff3-ef8a-4383-8711-5b1af9028eba"
      },
      "source": [
        "n = 0\n",
        "i = 1\n",
        "while i < 1001:\n",
        "    if i % 3 ==0:\n",
        "        n = n + i\n",
        "    i = i + 1\n",
        "print(n)\n"
      ],
      "execution_count": null,
      "outputs": [
        {
          "output_type": "stream",
          "text": [
            "166833\n"
          ],
          "name": "stdout"
        }
      ]
    },
    {
      "cell_type": "markdown",
      "metadata": {
        "id": "Gq29IYeqkTfz"
      },
      "source": [
        "#### Q3 while문을 사용하여 별(*)을 표시하는 프로그램을 작성해 보자."
      ]
    },
    {
      "cell_type": "code",
      "metadata": {
        "colab": {
          "base_uri": "https://localhost:8080/"
        },
        "id": "8eMPOPZ8kR2E",
        "outputId": "18abb60c-10f6-47d0-99ba-0e13a48c0f80"
      },
      "source": [
        "i = 0\n",
        "while i in range(5):\n",
        "    i = i + 1\n",
        "    print('*' * i)"
      ],
      "execution_count": null,
      "outputs": [
        {
          "output_type": "stream",
          "text": [
            "*\n",
            "**\n",
            "***\n",
            "****\n",
            "*****\n"
          ],
          "name": "stdout"
        }
      ]
    },
    {
      "cell_type": "code",
      "metadata": {
        "colab": {
          "base_uri": "https://localhost:8080/"
        },
        "id": "T5_m9OsR2jrp",
        "outputId": "b1d357c5-21be-42d8-a078-df19b1ce0646"
      },
      "source": [
        "i = 6\n",
        "while i in range(6, 0, -1):\n",
        "    i = i - 1\n",
        "    print('*' * i)"
      ],
      "execution_count": null,
      "outputs": [
        {
          "output_type": "stream",
          "text": [
            "*****\n",
            "****\n",
            "***\n",
            "**\n",
            "*\n",
            "\n"
          ],
          "name": "stdout"
        }
      ]
    },
    {
      "cell_type": "markdown",
      "metadata": {
        "id": "n0jAfaHIlP74"
      },
      "source": [
        "#### Q4 for문을 사용해 1부터 100까지의 숫자를 출력해 보자."
      ]
    },
    {
      "cell_type": "code",
      "metadata": {
        "id": "x_q04dG6ksGN",
        "colab": {
          "base_uri": "https://localhost:8080/"
        },
        "outputId": "97b1860f-812e-4cf3-8195-82020eb985f2"
      },
      "source": [
        "i = 0\n",
        "for i in range(0, 100, 1):\n",
        "    i = i + 1\n",
        "    print(i)"
      ],
      "execution_count": null,
      "outputs": [
        {
          "output_type": "stream",
          "text": [
            "1\n",
            "2\n",
            "3\n",
            "4\n",
            "5\n",
            "6\n",
            "7\n",
            "8\n",
            "9\n",
            "10\n",
            "11\n",
            "12\n",
            "13\n",
            "14\n",
            "15\n",
            "16\n",
            "17\n",
            "18\n",
            "19\n",
            "20\n",
            "21\n",
            "22\n",
            "23\n",
            "24\n",
            "25\n",
            "26\n",
            "27\n",
            "28\n",
            "29\n",
            "30\n",
            "31\n",
            "32\n",
            "33\n",
            "34\n",
            "35\n",
            "36\n",
            "37\n",
            "38\n",
            "39\n",
            "40\n",
            "41\n",
            "42\n",
            "43\n",
            "44\n",
            "45\n",
            "46\n",
            "47\n",
            "48\n",
            "49\n",
            "50\n",
            "51\n",
            "52\n",
            "53\n",
            "54\n",
            "55\n",
            "56\n",
            "57\n",
            "58\n",
            "59\n",
            "60\n",
            "61\n",
            "62\n",
            "63\n",
            "64\n",
            "65\n",
            "66\n",
            "67\n",
            "68\n",
            "69\n",
            "70\n",
            "71\n",
            "72\n",
            "73\n",
            "74\n",
            "75\n",
            "76\n",
            "77\n",
            "78\n",
            "79\n",
            "80\n",
            "81\n",
            "82\n",
            "83\n",
            "84\n",
            "85\n",
            "86\n",
            "87\n",
            "88\n",
            "89\n",
            "90\n",
            "91\n",
            "92\n",
            "93\n",
            "94\n",
            "95\n",
            "96\n",
            "97\n",
            "98\n",
            "99\n",
            "100\n"
          ],
          "name": "stdout"
        }
      ]
    },
    {
      "cell_type": "code",
      "metadata": {
        "colab": {
          "base_uri": "https://localhost:8080/"
        },
        "id": "FbJUPgHTzIb0",
        "outputId": "9929d988-5584-4d1d-a7e0-e6fde3771fd0"
      },
      "source": [
        "for i in range(1, 101, 1):\n",
        "    print(i)"
      ],
      "execution_count": null,
      "outputs": [
        {
          "output_type": "stream",
          "text": [
            "1\n",
            "2\n",
            "3\n",
            "4\n",
            "5\n",
            "6\n",
            "7\n",
            "8\n",
            "9\n",
            "10\n",
            "11\n",
            "12\n",
            "13\n",
            "14\n",
            "15\n",
            "16\n",
            "17\n",
            "18\n",
            "19\n",
            "20\n",
            "21\n",
            "22\n",
            "23\n",
            "24\n",
            "25\n",
            "26\n",
            "27\n",
            "28\n",
            "29\n",
            "30\n",
            "31\n",
            "32\n",
            "33\n",
            "34\n",
            "35\n",
            "36\n",
            "37\n",
            "38\n",
            "39\n",
            "40\n",
            "41\n",
            "42\n",
            "43\n",
            "44\n",
            "45\n",
            "46\n",
            "47\n",
            "48\n",
            "49\n",
            "50\n",
            "51\n",
            "52\n",
            "53\n",
            "54\n",
            "55\n",
            "56\n",
            "57\n",
            "58\n",
            "59\n",
            "60\n",
            "61\n",
            "62\n",
            "63\n",
            "64\n",
            "65\n",
            "66\n",
            "67\n",
            "68\n",
            "69\n",
            "70\n",
            "71\n",
            "72\n",
            "73\n",
            "74\n",
            "75\n",
            "76\n",
            "77\n",
            "78\n",
            "79\n",
            "80\n",
            "81\n",
            "82\n",
            "83\n",
            "84\n",
            "85\n",
            "86\n",
            "87\n",
            "88\n",
            "89\n",
            "90\n",
            "91\n",
            "92\n",
            "93\n",
            "94\n",
            "95\n",
            "96\n",
            "97\n",
            "98\n",
            "99\n",
            "100\n"
          ],
          "name": "stdout"
        }
      ]
    },
    {
      "cell_type": "markdown",
      "metadata": {
        "id": "VkzFQAi9lVCU"
      },
      "source": [
        "#### Q5 A 학급에 총 10명의 학생이 있다. 이 학생들의 중간고사 점수는 다음과 같다.\n",
        "`[70,60,55,75,95,90,80,80,85,100]`\n",
        "\n",
        "for문을 사용하여 A 학급의 평균 점수를 구해 보자."
      ]
    },
    {
      "cell_type": "code",
      "metadata": {
        "id": "HBNM21valhYT",
        "colab": {
          "base_uri": "https://localhost:8080/"
        },
        "outputId": "e1dceff1-d801-48a2-cc06-46f4d5f19eed"
      },
      "source": [
        "a = [70,60,55,75,95,90,80,80,85,100]\n",
        "total = 0\n",
        "\n",
        "for score in a:\n",
        "    total = total + score\n",
        "print(total)\n",
        "\n",
        "avg = total / len(a)\n",
        "print(avg)\n"
      ],
      "execution_count": null,
      "outputs": [
        {
          "output_type": "stream",
          "text": [
            "790\n",
            "79.0\n"
          ],
          "name": "stdout"
        }
      ]
    },
    {
      "cell_type": "markdown",
      "metadata": {
        "id": "XOPOD-ZPljjI"
      },
      "source": [
        "#### Q6 리스트 중에서 홀수에만 2를 곱하여 저장하는 다음 코드가 있다.\n",
        "\n",
        "---\n",
        "```\n",
        "# numbers = [1, 2, 3, 4, 5]\n",
        "result = []\n",
        "for n in numbers:\n",
        "    if n % 2 == 1:\n",
        "        result.append(n*2)\n",
        "```\n",
        "\n",
        "위 코드를 리스트 내포를 사용하여 표현해 보자.\n",
        "\n",
        "\n"
      ]
    },
    {
      "cell_type": "code",
      "metadata": {
        "id": "goNhZhemluhZ",
        "colab": {
          "base_uri": "https://localhost:8080/"
        },
        "outputId": "ce3d7aff-46b2-4e9c-b5e4-9b450b15db63"
      },
      "source": [
        "result = [n*2 for n in numbers if n % 2 == 1]\n",
        "print(result)"
      ],
      "execution_count": null,
      "outputs": [
        {
          "output_type": "stream",
          "text": [
            "[2, 6, 10]\n"
          ],
          "name": "stdout"
        }
      ]
    },
    {
      "cell_type": "code",
      "metadata": {
        "id": "dlgCX1NroUou",
        "colab": {
          "base_uri": "https://localhost:8080/"
        },
        "outputId": "c5042742-f5c2-4379-f567-08ff6713b308"
      },
      "source": [
        "numbers = [1, 2, 3, 4, 5]\n",
        "result = []\n",
        "for n in numbers:\n",
        "    if n % 2 == 1:\n",
        "        result.append(n*2)\n",
        "print(result)"
      ],
      "execution_count": null,
      "outputs": [
        {
          "output_type": "stream",
          "text": [
            "[2, 6, 10]\n"
          ],
          "name": "stdout"
        }
      ]
    },
    {
      "cell_type": "code",
      "metadata": {
        "id": "GjrVwXQ11ygb"
      },
      "source": [
        ""
      ],
      "execution_count": null,
      "outputs": []
    }
  ]
}